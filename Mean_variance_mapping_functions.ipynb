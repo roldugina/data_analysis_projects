{
  "nbformat": 4,
  "nbformat_minor": 0,
  "metadata": {
    "colab": {
      "provenance": [],
      "authorship_tag": "ABX9TyMT50etY7vRUGMcIvCOZVw+",
      "include_colab_link": true
    },
    "kernelspec": {
      "name": "python3",
      "display_name": "Python 3"
    },
    "language_info": {
      "name": "python"
    }
  },
  "cells": [
    {
      "cell_type": "markdown",
      "metadata": {
        "id": "view-in-github",
        "colab_type": "text"
      },
      "source": [
        "<a href=\"https://colab.research.google.com/github/roldugina/boilerplate-demographic-data-analyzer/blob/main/Mean_variance_mapping_functions.ipynb\" target=\"_parent\"><img src=\"https://colab.research.google.com/assets/colab-badge.svg\" alt=\"Open In Colab\"/></a>"
      ]
    },
    {
      "cell_type": "code",
      "source": [
        "import numpy as np\n",
        "import pandas as pd"
      ],
      "metadata": {
        "id": "S25HvdjfN2aC"
      },
      "execution_count": 75,
      "outputs": []
    },
    {
      "cell_type": "code",
      "execution_count": 97,
      "metadata": {
        "id": "GWkk8CeLR0jY"
      },
      "outputs": [],
      "source": [
        "list=[2,6,2,8,4,0,1,5,7]"
      ]
    },
    {
      "cell_type": "markdown",
      "source": [
        "expected = {'mean': [[3.6666666666666665, 5.0, 3.0], [3.3333333333333335, 4.0, 4.333333333333333], 3.888888888888889], 'variance': [[9.555555555555557, 0.6666666666666666, 8.666666666666666], [3.555555555555556, 10.666666666666666, 6.222222222222221], 6.987654320987654], 'standard deviation': [[3.091206165165235, 0.816496580927726, 2.943920288775949], [1.8856180831641267, 3.265986323710904, 2.494438257849294], 2.6434171674156266], 'max': [[8, 6, 7], [6, 8, 7], 8], 'min': [[1, 4, 0], [2, 0, 1], 0], 'sum': [[11, 15, 9], [10, 12, 13], 35]}\n",
        "        "
      ],
      "metadata": {
        "id": "cY4Dd4b89Zt6"
      }
    },
    {
      "cell_type": "code",
      "source": [
        "def calc(x):\n",
        "  mean_list=[x.mean(axis=0).tolist(),x.mean(axis=1).tolist(),x.mean().tolist()]\n",
        "  var_list=[x.var(axis=0).tolist(),x.var(axis=1).tolist(),x.var().tolist()]\n",
        "  std_list=[x.std(axis=0).tolist(),x.std(axis=1).tolist(),x.std().tolist()]\n",
        "  max_list=[x.max(axis=0).tolist(),x.max(axis=1).tolist(),x.max().tolist()]\n",
        "  min_list=[x.min(axis=0).tolist(),x.min(axis=1).tolist(),x.min().tolist()]\n",
        "  sum_list=[x.sum(axis=0).tolist(),x.sum(axis=1).tolist(),x.sum().tolist()]\n",
        "  calc_dict={'mean':mean_list,'var':var_list,'std':std_list,'max':max_list,'min':min_list,'sum':sum_list}\n",
        "  return calc_dict\n"
      ],
      "metadata": {
        "id": "PNeMfN-GPETy"
      },
      "execution_count": 92,
      "outputs": []
    },
    {
      "cell_type": "code",
      "source": [
        "if len(list)!=9:\n",
        "  raise ValueError(\"List must contain 9 elements\")\n",
        "else:\n",
        "  arr=np.array(list).reshape(3,3)\n",
        "  calculations=calc(arr)\n",
        "  print (calculations)\n"
      ],
      "metadata": {
        "colab": {
          "base_uri": "https://localhost:8080/"
        },
        "id": "XwLILjXCS_sc",
        "outputId": "5d0a2206-1f24-4400-8fa4-841c809d0e59"
      },
      "execution_count": 98,
      "outputs": [
        {
          "output_type": "stream",
          "name": "stdout",
          "text": [
            "{'mean': [[3.6666666666666665, 5.0, 3.0], [3.3333333333333335, 4.0, 4.333333333333333], 3.888888888888889], 'var': [[9.555555555555557, 0.6666666666666666, 8.666666666666666], [3.555555555555556, 10.666666666666666, 6.222222222222221], 6.987654320987654], 'std': [[3.091206165165235, 0.816496580927726, 2.943920288775949], [1.8856180831641267, 3.265986323710904, 2.494438257849294], 2.6434171674156266], 'max': [[8, 6, 7], [6, 8, 7], 8], 'min': [[1, 4, 0], [2, 0, 1], 0], 'sum': [[11, 15, 9], [10, 12, 13], 35]}\n"
          ]
        }
      ]
    }
  ]
}