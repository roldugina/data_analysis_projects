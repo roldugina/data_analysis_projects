{
  "nbformat": 4,
  "nbformat_minor": 0,
  "metadata": {
    "colab": {
      "provenance": [],
      "authorship_tag": "ABX9TyMsrRR4PShXXCN1kRNF9/gz",
      "include_colab_link": true
    },
    "kernelspec": {
      "name": "python3",
      "display_name": "Python 3"
    },
    "language_info": {
      "name": "python"
    }
  },
  "cells": [
    {
      "cell_type": "markdown",
      "metadata": {
        "id": "view-in-github",
        "colab_type": "text"
      },
      "source": [
        "<a href=\"https://colab.research.google.com/github/roldugina/data_analysis_projects/blob/main/Housing_price_Canada.ipynb\" target=\"_parent\"><img src=\"https://colab.research.google.com/assets/colab-badge.svg\" alt=\"Open In Colab\"/></a>"
      ]
    },
    {
      "cell_type": "markdown",
      "source": [
        "## 1. Loading the dataset and importing libraries"
      ],
      "metadata": {
        "id": "_1OEMEcNoJud"
      }
    },
    {
      "cell_type": "code",
      "execution_count": 90,
      "metadata": {
        "id": "DPjtA0E51KFB"
      },
      "outputs": [],
      "source": [
        "import pandas as pd\n",
        "import numpy as np\n",
        "import seaborn as sns\n",
        "import matplotlib.pyplot as plt"
      ]
    },
    {
      "cell_type": "code",
      "source": [
        "df=pd.read_csv(\"https://raw.githubusercontent.com/roldugina/data_analysis_projects/main/Homes%20for%20Sale%20and%20Real%20Estate.csv\")"
      ],
      "metadata": {
        "id": "QiIculUL1cuv"
      },
      "execution_count": 91,
      "outputs": []
    },
    {
      "cell_type": "markdown",
      "source": [
        "## 2. General dataset overview. Data cleaning (checking for missing values and anomalies)"
      ],
      "metadata": {
        "id": "erUgt68hmXDg"
      }
    },
    {
      "cell_type": "code",
      "source": [
        "df.shape"
      ],
      "metadata": {
        "colab": {
          "base_uri": "https://localhost:8080/"
        },
        "id": "L0Bo2j3yJiO0",
        "outputId": "66921f08-b7a4-49d9-8a7a-3eaa33a5b8d7"
      },
      "execution_count": 92,
      "outputs": [
        {
          "output_type": "execute_result",
          "data": {
            "text/plain": [
              "(3360, 8)"
            ]
          },
          "metadata": {},
          "execution_count": 92
        }
      ]
    },
    {
      "cell_type": "code",
      "source": [
        "df.head()"
      ],
      "metadata": {
        "id": "7nQLsp5bJ5m_",
        "outputId": "2a71af5a-0eee-45c0-827f-a90074f1142d",
        "colab": {
          "base_uri": "https://localhost:8080/",
          "height": 206
        }
      },
      "execution_count": 93,
      "outputs": [
        {
          "output_type": "execute_result",
          "data": {
            "text/plain": [
              "                        Address   Price     Description         Place  Beds  \\\n",
              "0                 3704 42 St SW  979999  CA  AB T3E 3N1     Glenbrook     4   \n",
              "1      30 Mahogany Mews SE #415  439900  CA  AB T3M 3H4      Mahogany     2   \n",
              "2      273 Auburn Shores Way SE  950000  CA  AB T3M 2E9    Auburn Bay     4   \n",
              "3            235 15 Ave SW #404  280000  CA  AB T2R 0P6      Beltline     2   \n",
              "4  24 Hemlock Crescent SW #2308  649000  CA  AB T3C 2Z1  Spruce Cliff     2   \n",
              "\n",
              "   Bath  Sq.Ft                        Website  \n",
              "0   3.5   1813        Century 21 Bravo Realty  \n",
              "1   2.0   1029  Century 21 Bamber Realty Ltd.  \n",
              "2   2.5   2545                     Exp Realty  \n",
              "3   2.0    898    RE/MAX Realty Professionals  \n",
              "4   2.0   1482                        Charles  "
            ],
            "text/html": [
              "\n",
              "  <div id=\"df-c662f4e4-9e62-4a2d-bfef-3ca0ff49fcf1\" class=\"colab-df-container\">\n",
              "    <div>\n",
              "<style scoped>\n",
              "    .dataframe tbody tr th:only-of-type {\n",
              "        vertical-align: middle;\n",
              "    }\n",
              "\n",
              "    .dataframe tbody tr th {\n",
              "        vertical-align: top;\n",
              "    }\n",
              "\n",
              "    .dataframe thead th {\n",
              "        text-align: right;\n",
              "    }\n",
              "</style>\n",
              "<table border=\"1\" class=\"dataframe\">\n",
              "  <thead>\n",
              "    <tr style=\"text-align: right;\">\n",
              "      <th></th>\n",
              "      <th>Address</th>\n",
              "      <th>Price</th>\n",
              "      <th>Description</th>\n",
              "      <th>Place</th>\n",
              "      <th>Beds</th>\n",
              "      <th>Bath</th>\n",
              "      <th>Sq.Ft</th>\n",
              "      <th>Website</th>\n",
              "    </tr>\n",
              "  </thead>\n",
              "  <tbody>\n",
              "    <tr>\n",
              "      <th>0</th>\n",
              "      <td>3704 42 St SW</td>\n",
              "      <td>979999</td>\n",
              "      <td>CA  AB T3E 3N1</td>\n",
              "      <td>Glenbrook</td>\n",
              "      <td>4</td>\n",
              "      <td>3.5</td>\n",
              "      <td>1813</td>\n",
              "      <td>Century 21 Bravo Realty</td>\n",
              "    </tr>\n",
              "    <tr>\n",
              "      <th>1</th>\n",
              "      <td>30 Mahogany Mews SE #415</td>\n",
              "      <td>439900</td>\n",
              "      <td>CA  AB T3M 3H4</td>\n",
              "      <td>Mahogany</td>\n",
              "      <td>2</td>\n",
              "      <td>2.0</td>\n",
              "      <td>1029</td>\n",
              "      <td>Century 21 Bamber Realty Ltd.</td>\n",
              "    </tr>\n",
              "    <tr>\n",
              "      <th>2</th>\n",
              "      <td>273 Auburn Shores Way SE</td>\n",
              "      <td>950000</td>\n",
              "      <td>CA  AB T3M 2E9</td>\n",
              "      <td>Auburn Bay</td>\n",
              "      <td>4</td>\n",
              "      <td>2.5</td>\n",
              "      <td>2545</td>\n",
              "      <td>Exp Realty</td>\n",
              "    </tr>\n",
              "    <tr>\n",
              "      <th>3</th>\n",
              "      <td>235 15 Ave SW #404</td>\n",
              "      <td>280000</td>\n",
              "      <td>CA  AB T2R 0P6</td>\n",
              "      <td>Beltline</td>\n",
              "      <td>2</td>\n",
              "      <td>2.0</td>\n",
              "      <td>898</td>\n",
              "      <td>RE/MAX Realty Professionals</td>\n",
              "    </tr>\n",
              "    <tr>\n",
              "      <th>4</th>\n",
              "      <td>24 Hemlock Crescent SW #2308</td>\n",
              "      <td>649000</td>\n",
              "      <td>CA  AB T3C 2Z1</td>\n",
              "      <td>Spruce Cliff</td>\n",
              "      <td>2</td>\n",
              "      <td>2.0</td>\n",
              "      <td>1482</td>\n",
              "      <td>Charles</td>\n",
              "    </tr>\n",
              "  </tbody>\n",
              "</table>\n",
              "</div>\n",
              "    <div class=\"colab-df-buttons\">\n",
              "\n",
              "  <div class=\"colab-df-container\">\n",
              "    <button class=\"colab-df-convert\" onclick=\"convertToInteractive('df-c662f4e4-9e62-4a2d-bfef-3ca0ff49fcf1')\"\n",
              "            title=\"Convert this dataframe to an interactive table.\"\n",
              "            style=\"display:none;\">\n",
              "\n",
              "  <svg xmlns=\"http://www.w3.org/2000/svg\" height=\"24px\" viewBox=\"0 -960 960 960\">\n",
              "    <path d=\"M120-120v-720h720v720H120Zm60-500h600v-160H180v160Zm220 220h160v-160H400v160Zm0 220h160v-160H400v160ZM180-400h160v-160H180v160Zm440 0h160v-160H620v160ZM180-180h160v-160H180v160Zm440 0h160v-160H620v160Z\"/>\n",
              "  </svg>\n",
              "    </button>\n",
              "\n",
              "  <style>\n",
              "    .colab-df-container {\n",
              "      display:flex;\n",
              "      gap: 12px;\n",
              "    }\n",
              "\n",
              "    .colab-df-convert {\n",
              "      background-color: #E8F0FE;\n",
              "      border: none;\n",
              "      border-radius: 50%;\n",
              "      cursor: pointer;\n",
              "      display: none;\n",
              "      fill: #1967D2;\n",
              "      height: 32px;\n",
              "      padding: 0 0 0 0;\n",
              "      width: 32px;\n",
              "    }\n",
              "\n",
              "    .colab-df-convert:hover {\n",
              "      background-color: #E2EBFA;\n",
              "      box-shadow: 0px 1px 2px rgba(60, 64, 67, 0.3), 0px 1px 3px 1px rgba(60, 64, 67, 0.15);\n",
              "      fill: #174EA6;\n",
              "    }\n",
              "\n",
              "    .colab-df-buttons div {\n",
              "      margin-bottom: 4px;\n",
              "    }\n",
              "\n",
              "    [theme=dark] .colab-df-convert {\n",
              "      background-color: #3B4455;\n",
              "      fill: #D2E3FC;\n",
              "    }\n",
              "\n",
              "    [theme=dark] .colab-df-convert:hover {\n",
              "      background-color: #434B5C;\n",
              "      box-shadow: 0px 1px 3px 1px rgba(0, 0, 0, 0.15);\n",
              "      filter: drop-shadow(0px 1px 2px rgba(0, 0, 0, 0.3));\n",
              "      fill: #FFFFFF;\n",
              "    }\n",
              "  </style>\n",
              "\n",
              "    <script>\n",
              "      const buttonEl =\n",
              "        document.querySelector('#df-c662f4e4-9e62-4a2d-bfef-3ca0ff49fcf1 button.colab-df-convert');\n",
              "      buttonEl.style.display =\n",
              "        google.colab.kernel.accessAllowed ? 'block' : 'none';\n",
              "\n",
              "      async function convertToInteractive(key) {\n",
              "        const element = document.querySelector('#df-c662f4e4-9e62-4a2d-bfef-3ca0ff49fcf1');\n",
              "        const dataTable =\n",
              "          await google.colab.kernel.invokeFunction('convertToInteractive',\n",
              "                                                    [key], {});\n",
              "        if (!dataTable) return;\n",
              "\n",
              "        const docLinkHtml = 'Like what you see? Visit the ' +\n",
              "          '<a target=\"_blank\" href=https://colab.research.google.com/notebooks/data_table.ipynb>data table notebook</a>'\n",
              "          + ' to learn more about interactive tables.';\n",
              "        element.innerHTML = '';\n",
              "        dataTable['output_type'] = 'display_data';\n",
              "        await google.colab.output.renderOutput(dataTable, element);\n",
              "        const docLink = document.createElement('div');\n",
              "        docLink.innerHTML = docLinkHtml;\n",
              "        element.appendChild(docLink);\n",
              "      }\n",
              "    </script>\n",
              "  </div>\n",
              "\n",
              "\n",
              "<div id=\"df-08876ee9-d8ac-4a8c-bae9-27f458661294\">\n",
              "  <button class=\"colab-df-quickchart\" onclick=\"quickchart('df-08876ee9-d8ac-4a8c-bae9-27f458661294')\"\n",
              "            title=\"Suggest charts\"\n",
              "            style=\"display:none;\">\n",
              "\n",
              "<svg xmlns=\"http://www.w3.org/2000/svg\" height=\"24px\"viewBox=\"0 0 24 24\"\n",
              "     width=\"24px\">\n",
              "    <g>\n",
              "        <path d=\"M19 3H5c-1.1 0-2 .9-2 2v14c0 1.1.9 2 2 2h14c1.1 0 2-.9 2-2V5c0-1.1-.9-2-2-2zM9 17H7v-7h2v7zm4 0h-2V7h2v10zm4 0h-2v-4h2v4z\"/>\n",
              "    </g>\n",
              "</svg>\n",
              "  </button>\n",
              "\n",
              "<style>\n",
              "  .colab-df-quickchart {\n",
              "      --bg-color: #E8F0FE;\n",
              "      --fill-color: #1967D2;\n",
              "      --hover-bg-color: #E2EBFA;\n",
              "      --hover-fill-color: #174EA6;\n",
              "      --disabled-fill-color: #AAA;\n",
              "      --disabled-bg-color: #DDD;\n",
              "  }\n",
              "\n",
              "  [theme=dark] .colab-df-quickchart {\n",
              "      --bg-color: #3B4455;\n",
              "      --fill-color: #D2E3FC;\n",
              "      --hover-bg-color: #434B5C;\n",
              "      --hover-fill-color: #FFFFFF;\n",
              "      --disabled-bg-color: #3B4455;\n",
              "      --disabled-fill-color: #666;\n",
              "  }\n",
              "\n",
              "  .colab-df-quickchart {\n",
              "    background-color: var(--bg-color);\n",
              "    border: none;\n",
              "    border-radius: 50%;\n",
              "    cursor: pointer;\n",
              "    display: none;\n",
              "    fill: var(--fill-color);\n",
              "    height: 32px;\n",
              "    padding: 0;\n",
              "    width: 32px;\n",
              "  }\n",
              "\n",
              "  .colab-df-quickchart:hover {\n",
              "    background-color: var(--hover-bg-color);\n",
              "    box-shadow: 0 1px 2px rgba(60, 64, 67, 0.3), 0 1px 3px 1px rgba(60, 64, 67, 0.15);\n",
              "    fill: var(--button-hover-fill-color);\n",
              "  }\n",
              "\n",
              "  .colab-df-quickchart-complete:disabled,\n",
              "  .colab-df-quickchart-complete:disabled:hover {\n",
              "    background-color: var(--disabled-bg-color);\n",
              "    fill: var(--disabled-fill-color);\n",
              "    box-shadow: none;\n",
              "  }\n",
              "\n",
              "  .colab-df-spinner {\n",
              "    border: 2px solid var(--fill-color);\n",
              "    border-color: transparent;\n",
              "    border-bottom-color: var(--fill-color);\n",
              "    animation:\n",
              "      spin 1s steps(1) infinite;\n",
              "  }\n",
              "\n",
              "  @keyframes spin {\n",
              "    0% {\n",
              "      border-color: transparent;\n",
              "      border-bottom-color: var(--fill-color);\n",
              "      border-left-color: var(--fill-color);\n",
              "    }\n",
              "    20% {\n",
              "      border-color: transparent;\n",
              "      border-left-color: var(--fill-color);\n",
              "      border-top-color: var(--fill-color);\n",
              "    }\n",
              "    30% {\n",
              "      border-color: transparent;\n",
              "      border-left-color: var(--fill-color);\n",
              "      border-top-color: var(--fill-color);\n",
              "      border-right-color: var(--fill-color);\n",
              "    }\n",
              "    40% {\n",
              "      border-color: transparent;\n",
              "      border-right-color: var(--fill-color);\n",
              "      border-top-color: var(--fill-color);\n",
              "    }\n",
              "    60% {\n",
              "      border-color: transparent;\n",
              "      border-right-color: var(--fill-color);\n",
              "    }\n",
              "    80% {\n",
              "      border-color: transparent;\n",
              "      border-right-color: var(--fill-color);\n",
              "      border-bottom-color: var(--fill-color);\n",
              "    }\n",
              "    90% {\n",
              "      border-color: transparent;\n",
              "      border-bottom-color: var(--fill-color);\n",
              "    }\n",
              "  }\n",
              "</style>\n",
              "\n",
              "  <script>\n",
              "    async function quickchart(key) {\n",
              "      const quickchartButtonEl =\n",
              "        document.querySelector('#' + key + ' button');\n",
              "      quickchartButtonEl.disabled = true;  // To prevent multiple clicks.\n",
              "      quickchartButtonEl.classList.add('colab-df-spinner');\n",
              "      try {\n",
              "        const charts = await google.colab.kernel.invokeFunction(\n",
              "            'suggestCharts', [key], {});\n",
              "      } catch (error) {\n",
              "        console.error('Error during call to suggestCharts:', error);\n",
              "      }\n",
              "      quickchartButtonEl.classList.remove('colab-df-spinner');\n",
              "      quickchartButtonEl.classList.add('colab-df-quickchart-complete');\n",
              "    }\n",
              "    (() => {\n",
              "      let quickchartButtonEl =\n",
              "        document.querySelector('#df-08876ee9-d8ac-4a8c-bae9-27f458661294 button');\n",
              "      quickchartButtonEl.style.display =\n",
              "        google.colab.kernel.accessAllowed ? 'block' : 'none';\n",
              "    })();\n",
              "  </script>\n",
              "</div>\n",
              "    </div>\n",
              "  </div>\n"
            ]
          },
          "metadata": {},
          "execution_count": 93
        }
      ]
    },
    {
      "cell_type": "code",
      "source": [
        "df.describe()"
      ],
      "metadata": {
        "id": "Qg1zFhvwJ5j2",
        "outputId": "ab8820c4-d31a-4fdd-a564-c0acd1194f76",
        "colab": {
          "base_uri": "https://localhost:8080/",
          "height": 300
        }
      },
      "execution_count": 94,
      "outputs": [
        {
          "output_type": "execute_result",
          "data": {
            "text/plain": [
              "              Price         Beds         Bath         Sq.Ft\n",
              "count  3.360000e+03  3360.000000  3360.000000   3360.000000\n",
              "mean   7.500648e+05     3.125000     2.479167   1558.815179\n",
              "std    6.447619e+05     1.349087     1.023546   1056.424307\n",
              "min    1.419000e+05     1.000000     1.000000    307.000000\n",
              "25%    3.990000e+05     2.000000     2.000000    933.000000\n",
              "50%    6.199000e+05     3.000000     2.500000   1352.000000\n",
              "75%    8.499220e+05     4.000000     3.500000   2023.250000\n",
              "max    1.000000e+07    10.000000     8.000000  39654.000000"
            ],
            "text/html": [
              "\n",
              "  <div id=\"df-920f79b9-1a78-42c7-a0f0-294779796399\" class=\"colab-df-container\">\n",
              "    <div>\n",
              "<style scoped>\n",
              "    .dataframe tbody tr th:only-of-type {\n",
              "        vertical-align: middle;\n",
              "    }\n",
              "\n",
              "    .dataframe tbody tr th {\n",
              "        vertical-align: top;\n",
              "    }\n",
              "\n",
              "    .dataframe thead th {\n",
              "        text-align: right;\n",
              "    }\n",
              "</style>\n",
              "<table border=\"1\" class=\"dataframe\">\n",
              "  <thead>\n",
              "    <tr style=\"text-align: right;\">\n",
              "      <th></th>\n",
              "      <th>Price</th>\n",
              "      <th>Beds</th>\n",
              "      <th>Bath</th>\n",
              "      <th>Sq.Ft</th>\n",
              "    </tr>\n",
              "  </thead>\n",
              "  <tbody>\n",
              "    <tr>\n",
              "      <th>count</th>\n",
              "      <td>3.360000e+03</td>\n",
              "      <td>3360.000000</td>\n",
              "      <td>3360.000000</td>\n",
              "      <td>3360.000000</td>\n",
              "    </tr>\n",
              "    <tr>\n",
              "      <th>mean</th>\n",
              "      <td>7.500648e+05</td>\n",
              "      <td>3.125000</td>\n",
              "      <td>2.479167</td>\n",
              "      <td>1558.815179</td>\n",
              "    </tr>\n",
              "    <tr>\n",
              "      <th>std</th>\n",
              "      <td>6.447619e+05</td>\n",
              "      <td>1.349087</td>\n",
              "      <td>1.023546</td>\n",
              "      <td>1056.424307</td>\n",
              "    </tr>\n",
              "    <tr>\n",
              "      <th>min</th>\n",
              "      <td>1.419000e+05</td>\n",
              "      <td>1.000000</td>\n",
              "      <td>1.000000</td>\n",
              "      <td>307.000000</td>\n",
              "    </tr>\n",
              "    <tr>\n",
              "      <th>25%</th>\n",
              "      <td>3.990000e+05</td>\n",
              "      <td>2.000000</td>\n",
              "      <td>2.000000</td>\n",
              "      <td>933.000000</td>\n",
              "    </tr>\n",
              "    <tr>\n",
              "      <th>50%</th>\n",
              "      <td>6.199000e+05</td>\n",
              "      <td>3.000000</td>\n",
              "      <td>2.500000</td>\n",
              "      <td>1352.000000</td>\n",
              "    </tr>\n",
              "    <tr>\n",
              "      <th>75%</th>\n",
              "      <td>8.499220e+05</td>\n",
              "      <td>4.000000</td>\n",
              "      <td>3.500000</td>\n",
              "      <td>2023.250000</td>\n",
              "    </tr>\n",
              "    <tr>\n",
              "      <th>max</th>\n",
              "      <td>1.000000e+07</td>\n",
              "      <td>10.000000</td>\n",
              "      <td>8.000000</td>\n",
              "      <td>39654.000000</td>\n",
              "    </tr>\n",
              "  </tbody>\n",
              "</table>\n",
              "</div>\n",
              "    <div class=\"colab-df-buttons\">\n",
              "\n",
              "  <div class=\"colab-df-container\">\n",
              "    <button class=\"colab-df-convert\" onclick=\"convertToInteractive('df-920f79b9-1a78-42c7-a0f0-294779796399')\"\n",
              "            title=\"Convert this dataframe to an interactive table.\"\n",
              "            style=\"display:none;\">\n",
              "\n",
              "  <svg xmlns=\"http://www.w3.org/2000/svg\" height=\"24px\" viewBox=\"0 -960 960 960\">\n",
              "    <path d=\"M120-120v-720h720v720H120Zm60-500h600v-160H180v160Zm220 220h160v-160H400v160Zm0 220h160v-160H400v160ZM180-400h160v-160H180v160Zm440 0h160v-160H620v160ZM180-180h160v-160H180v160Zm440 0h160v-160H620v160Z\"/>\n",
              "  </svg>\n",
              "    </button>\n",
              "\n",
              "  <style>\n",
              "    .colab-df-container {\n",
              "      display:flex;\n",
              "      gap: 12px;\n",
              "    }\n",
              "\n",
              "    .colab-df-convert {\n",
              "      background-color: #E8F0FE;\n",
              "      border: none;\n",
              "      border-radius: 50%;\n",
              "      cursor: pointer;\n",
              "      display: none;\n",
              "      fill: #1967D2;\n",
              "      height: 32px;\n",
              "      padding: 0 0 0 0;\n",
              "      width: 32px;\n",
              "    }\n",
              "\n",
              "    .colab-df-convert:hover {\n",
              "      background-color: #E2EBFA;\n",
              "      box-shadow: 0px 1px 2px rgba(60, 64, 67, 0.3), 0px 1px 3px 1px rgba(60, 64, 67, 0.15);\n",
              "      fill: #174EA6;\n",
              "    }\n",
              "\n",
              "    .colab-df-buttons div {\n",
              "      margin-bottom: 4px;\n",
              "    }\n",
              "\n",
              "    [theme=dark] .colab-df-convert {\n",
              "      background-color: #3B4455;\n",
              "      fill: #D2E3FC;\n",
              "    }\n",
              "\n",
              "    [theme=dark] .colab-df-convert:hover {\n",
              "      background-color: #434B5C;\n",
              "      box-shadow: 0px 1px 3px 1px rgba(0, 0, 0, 0.15);\n",
              "      filter: drop-shadow(0px 1px 2px rgba(0, 0, 0, 0.3));\n",
              "      fill: #FFFFFF;\n",
              "    }\n",
              "  </style>\n",
              "\n",
              "    <script>\n",
              "      const buttonEl =\n",
              "        document.querySelector('#df-920f79b9-1a78-42c7-a0f0-294779796399 button.colab-df-convert');\n",
              "      buttonEl.style.display =\n",
              "        google.colab.kernel.accessAllowed ? 'block' : 'none';\n",
              "\n",
              "      async function convertToInteractive(key) {\n",
              "        const element = document.querySelector('#df-920f79b9-1a78-42c7-a0f0-294779796399');\n",
              "        const dataTable =\n",
              "          await google.colab.kernel.invokeFunction('convertToInteractive',\n",
              "                                                    [key], {});\n",
              "        if (!dataTable) return;\n",
              "\n",
              "        const docLinkHtml = 'Like what you see? Visit the ' +\n",
              "          '<a target=\"_blank\" href=https://colab.research.google.com/notebooks/data_table.ipynb>data table notebook</a>'\n",
              "          + ' to learn more about interactive tables.';\n",
              "        element.innerHTML = '';\n",
              "        dataTable['output_type'] = 'display_data';\n",
              "        await google.colab.output.renderOutput(dataTable, element);\n",
              "        const docLink = document.createElement('div');\n",
              "        docLink.innerHTML = docLinkHtml;\n",
              "        element.appendChild(docLink);\n",
              "      }\n",
              "    </script>\n",
              "  </div>\n",
              "\n",
              "\n",
              "<div id=\"df-351bb451-91f7-4e11-98ae-5b5053c90f1a\">\n",
              "  <button class=\"colab-df-quickchart\" onclick=\"quickchart('df-351bb451-91f7-4e11-98ae-5b5053c90f1a')\"\n",
              "            title=\"Suggest charts\"\n",
              "            style=\"display:none;\">\n",
              "\n",
              "<svg xmlns=\"http://www.w3.org/2000/svg\" height=\"24px\"viewBox=\"0 0 24 24\"\n",
              "     width=\"24px\">\n",
              "    <g>\n",
              "        <path d=\"M19 3H5c-1.1 0-2 .9-2 2v14c0 1.1.9 2 2 2h14c1.1 0 2-.9 2-2V5c0-1.1-.9-2-2-2zM9 17H7v-7h2v7zm4 0h-2V7h2v10zm4 0h-2v-4h2v4z\"/>\n",
              "    </g>\n",
              "</svg>\n",
              "  </button>\n",
              "\n",
              "<style>\n",
              "  .colab-df-quickchart {\n",
              "      --bg-color: #E8F0FE;\n",
              "      --fill-color: #1967D2;\n",
              "      --hover-bg-color: #E2EBFA;\n",
              "      --hover-fill-color: #174EA6;\n",
              "      --disabled-fill-color: #AAA;\n",
              "      --disabled-bg-color: #DDD;\n",
              "  }\n",
              "\n",
              "  [theme=dark] .colab-df-quickchart {\n",
              "      --bg-color: #3B4455;\n",
              "      --fill-color: #D2E3FC;\n",
              "      --hover-bg-color: #434B5C;\n",
              "      --hover-fill-color: #FFFFFF;\n",
              "      --disabled-bg-color: #3B4455;\n",
              "      --disabled-fill-color: #666;\n",
              "  }\n",
              "\n",
              "  .colab-df-quickchart {\n",
              "    background-color: var(--bg-color);\n",
              "    border: none;\n",
              "    border-radius: 50%;\n",
              "    cursor: pointer;\n",
              "    display: none;\n",
              "    fill: var(--fill-color);\n",
              "    height: 32px;\n",
              "    padding: 0;\n",
              "    width: 32px;\n",
              "  }\n",
              "\n",
              "  .colab-df-quickchart:hover {\n",
              "    background-color: var(--hover-bg-color);\n",
              "    box-shadow: 0 1px 2px rgba(60, 64, 67, 0.3), 0 1px 3px 1px rgba(60, 64, 67, 0.15);\n",
              "    fill: var(--button-hover-fill-color);\n",
              "  }\n",
              "\n",
              "  .colab-df-quickchart-complete:disabled,\n",
              "  .colab-df-quickchart-complete:disabled:hover {\n",
              "    background-color: var(--disabled-bg-color);\n",
              "    fill: var(--disabled-fill-color);\n",
              "    box-shadow: none;\n",
              "  }\n",
              "\n",
              "  .colab-df-spinner {\n",
              "    border: 2px solid var(--fill-color);\n",
              "    border-color: transparent;\n",
              "    border-bottom-color: var(--fill-color);\n",
              "    animation:\n",
              "      spin 1s steps(1) infinite;\n",
              "  }\n",
              "\n",
              "  @keyframes spin {\n",
              "    0% {\n",
              "      border-color: transparent;\n",
              "      border-bottom-color: var(--fill-color);\n",
              "      border-left-color: var(--fill-color);\n",
              "    }\n",
              "    20% {\n",
              "      border-color: transparent;\n",
              "      border-left-color: var(--fill-color);\n",
              "      border-top-color: var(--fill-color);\n",
              "    }\n",
              "    30% {\n",
              "      border-color: transparent;\n",
              "      border-left-color: var(--fill-color);\n",
              "      border-top-color: var(--fill-color);\n",
              "      border-right-color: var(--fill-color);\n",
              "    }\n",
              "    40% {\n",
              "      border-color: transparent;\n",
              "      border-right-color: var(--fill-color);\n",
              "      border-top-color: var(--fill-color);\n",
              "    }\n",
              "    60% {\n",
              "      border-color: transparent;\n",
              "      border-right-color: var(--fill-color);\n",
              "    }\n",
              "    80% {\n",
              "      border-color: transparent;\n",
              "      border-right-color: var(--fill-color);\n",
              "      border-bottom-color: var(--fill-color);\n",
              "    }\n",
              "    90% {\n",
              "      border-color: transparent;\n",
              "      border-bottom-color: var(--fill-color);\n",
              "    }\n",
              "  }\n",
              "</style>\n",
              "\n",
              "  <script>\n",
              "    async function quickchart(key) {\n",
              "      const quickchartButtonEl =\n",
              "        document.querySelector('#' + key + ' button');\n",
              "      quickchartButtonEl.disabled = true;  // To prevent multiple clicks.\n",
              "      quickchartButtonEl.classList.add('colab-df-spinner');\n",
              "      try {\n",
              "        const charts = await google.colab.kernel.invokeFunction(\n",
              "            'suggestCharts', [key], {});\n",
              "      } catch (error) {\n",
              "        console.error('Error during call to suggestCharts:', error);\n",
              "      }\n",
              "      quickchartButtonEl.classList.remove('colab-df-spinner');\n",
              "      quickchartButtonEl.classList.add('colab-df-quickchart-complete');\n",
              "    }\n",
              "    (() => {\n",
              "      let quickchartButtonEl =\n",
              "        document.querySelector('#df-351bb451-91f7-4e11-98ae-5b5053c90f1a button');\n",
              "      quickchartButtonEl.style.display =\n",
              "        google.colab.kernel.accessAllowed ? 'block' : 'none';\n",
              "    })();\n",
              "  </script>\n",
              "</div>\n",
              "    </div>\n",
              "  </div>\n"
            ]
          },
          "metadata": {},
          "execution_count": 94
        }
      ]
    },
    {
      "cell_type": "code",
      "source": [
        "df.info()"
      ],
      "metadata": {
        "colab": {
          "base_uri": "https://localhost:8080/"
        },
        "id": "8SuDsapAJrs_",
        "outputId": "dda7db5a-1d4c-4ed2-ddf7-48aa355bda69"
      },
      "execution_count": 95,
      "outputs": [
        {
          "output_type": "stream",
          "name": "stdout",
          "text": [
            "<class 'pandas.core.frame.DataFrame'>\n",
            "RangeIndex: 3360 entries, 0 to 3359\n",
            "Data columns (total 8 columns):\n",
            " #   Column       Non-Null Count  Dtype  \n",
            "---  ------       --------------  -----  \n",
            " 0   Address      3360 non-null   object \n",
            " 1   Price        3360 non-null   int64  \n",
            " 2   Description  3360 non-null   object \n",
            " 3   Place        3344 non-null   object \n",
            " 4   Beds         3360 non-null   int64  \n",
            " 5   Bath         3360 non-null   float64\n",
            " 6   Sq.Ft        3360 non-null   int64  \n",
            " 7   Website      3359 non-null   object \n",
            "dtypes: float64(1), int64(3), object(4)\n",
            "memory usage: 210.1+ KB\n"
          ]
        }
      ]
    },
    {
      "cell_type": "markdown",
      "source": [
        "### **Checking variable types.**\n",
        "\n",
        "\n",
        "It is correct that all categorical columns (Address, Description, Place, Website) have object type. Price, Beds, Sq.Ft have integer type.\n",
        "\n",
        "Bath column has float type, and we have to check if the values are valid."
      ],
      "metadata": {
        "id": "J6ZcnaVEm8J-"
      }
    },
    {
      "cell_type": "code",
      "source": [
        "df['Bath'].unique()"
      ],
      "metadata": {
        "colab": {
          "base_uri": "https://localhost:8080/"
        },
        "id": "4HUKHoLMpKrW",
        "outputId": "f06bc65b-5c09-458a-d641-f4cf8de02d91"
      },
      "execution_count": 96,
      "outputs": [
        {
          "output_type": "execute_result",
          "data": {
            "text/plain": [
              "array([3.5, 2. , 2.5, 1. , 3. , 1.5, 4.5, 5. , 6.5, 4. , 5.5, 6. , 7.5,\n",
              "       8. ])"
            ]
          },
          "metadata": {},
          "execution_count": 96
        }
      ]
    },
    {
      "cell_type": "markdown",
      "source": [
        " There are float values like 3.5, 4.5 etc. Domain knowledge tell us that such values are valid `cause there are houses with full bathrooms and half-bathrooms."
      ],
      "metadata": {
        "id": "fbXTTrhtOO1r"
      }
    },
    {
      "cell_type": "markdown",
      "source": [
        "### **Cleaning null values**\n",
        "\n",
        "There are 2 columns with missing values: Place and Website. These variables are categorical and we cannot fill them, so we have to drop these rows. The number of dropped rows is 17, which is not significant for our future conclusions."
      ],
      "metadata": {
        "id": "gsjxa4nXKMXx"
      }
    },
    {
      "cell_type": "code",
      "source": [
        "df_cleaned=df.dropna()"
      ],
      "metadata": {
        "id": "R5LnwujEJ5zc"
      },
      "execution_count": 97,
      "outputs": []
    },
    {
      "cell_type": "code",
      "source": [
        "len(df_cleaned)-len(df)"
      ],
      "metadata": {
        "id": "SFkoC7dtJ52Q",
        "colab": {
          "base_uri": "https://localhost:8080/"
        },
        "outputId": "201f9c7c-371b-47f9-ac6e-68c0d3d208ea"
      },
      "execution_count": 98,
      "outputs": [
        {
          "output_type": "execute_result",
          "data": {
            "text/plain": [
              "-17"
            ]
          },
          "metadata": {},
          "execution_count": 98
        }
      ]
    },
    {
      "cell_type": "markdown",
      "source": [
        "### **Cleaning not null values**"
      ],
      "metadata": {
        "id": "_7PleuclK5r5"
      }
    },
    {
      "cell_type": "markdown",
      "source": [
        "Checking for duplicates:"
      ],
      "metadata": {
        "id": "lgWoZoNSLAB6"
      }
    },
    {
      "cell_type": "code",
      "source": [
        "df_cleaned['Address'].duplicated().any()"
      ],
      "metadata": {
        "id": "_TKAc-YmJ55K",
        "colab": {
          "base_uri": "https://localhost:8080/"
        },
        "outputId": "d8985d93-234a-42e3-f90d-08aa77a3813c"
      },
      "execution_count": 99,
      "outputs": [
        {
          "output_type": "execute_result",
          "data": {
            "text/plain": [
              "False"
            ]
          },
          "metadata": {},
          "execution_count": 99
        }
      ]
    },
    {
      "cell_type": "markdown",
      "source": [
        "There are no duplicated addresses.\n",
        "\n",
        "\n",
        "\n"
      ],
      "metadata": {
        "id": "5Ijci9JLLHr8"
      }
    },
    {
      "cell_type": "markdown",
      "source": [
        "Are there outliers?\n",
        "To answer this question let`s vizualize the data."
      ],
      "metadata": {
        "id": "HTN13d2NOpfD"
      }
    },
    {
      "cell_type": "code",
      "source": [
        "plot_objects = plt.subplots(nrows=3, ncols=2, figsize=(24, 10))\n",
        "fig,((ax1,ax2),(ax3,ax4),(ax5,ax6))=plot_objects"
      ],
      "metadata": {
        "id": "pJmoGNQdHYam",
        "outputId": "726e41e6-f1de-421e-b699-8eeaae34964e",
        "colab": {
          "base_uri": "https://localhost:8080/",
          "height": 836
        }
      },
      "execution_count": 100,
      "outputs": [
        {
          "output_type": "display_data",
          "data": {
            "text/plain": [
              "<Figure size 2400x1000 with 6 Axes>"
            ],
            "image/png": "[encoded data removed]"
          },
          "metadata": {}
        }
      ]
    },
    {
      "cell_type": "code",
      "source": [
        "ax1.plot(df_cleaned['Price'],color='blue',linewidth=1,label='Price')\n",
        "ax2.plot(df_cleaned['Sq.Ft'],color='green',linewidth=1)\n",
        "ax3.boxplot(df_cleaned['Price'])\n",
        "ax4.boxplot(df_cleaned['Sq.Ft'])\n",
        "ax5.hist(df_cleaned['Beds'],bins=10)\n",
        "ax6.hist(df_cleaned['Bath'],bins=10)\n",
        "\n",
        "\n",
        "ax1.set_ylabel('Price')\n",
        "ax2.set_ylabel('Square Ft')\n",
        "ax3.set_ylabel('Price')\n",
        "ax4.set_ylabel('Square Ft')\n",
        "ax5.set_ylabel('Beds')\n",
        "ax6.set_ylabel('Baths')\n",
        "\n",
        "ax1.set_title(\"Price\")\n",
        "ax2.set_title(\"Square Ft\")\n",
        "ax3.set_title(\"Price\")\n",
        "ax4.set_title(\"Square Ft\")\n",
        "ax5.set_title(\"Number of beds\")\n",
        "ax6.set_title(\"Number of baths\")\n",
        "\n",
        "ax1.legend()\n",
        "ax2.legend()\n",
        "ax5.legend()\n",
        "ax6.legend()\n",
        "\n",
        "fig.suptitle('House prices in Calgary 2023',fontsize=30)\n",
        "\n",
        "fig"
      ],
      "metadata": {
        "id": "nZMWyd6RHavz",
        "outputId": "585437b7-a78e-4556-bde9-feb20bde7d5b",
        "colab": {
          "base_uri": "https://localhost:8080/",
          "height": 982
        }
      },
      "execution_count": 101,
      "outputs": [
        {
          "output_type": "stream",
          "name": "stderr",
          "text": [
            "WARNING:matplotlib.legend:No artists with labels found to put in legend.  Note that artists whose label start with an underscore are ignored when legend() is called with no argument.\n",
            "WARNING:matplotlib.legend:No artists with labels found to put in legend.  Note that artists whose label start with an underscore are ignored when legend() is called with no argument.\n",
            "WARNING:matplotlib.legend:No artists with labels found to put in legend.  Note that artists whose label start with an underscore are ignored when legend() is called with no argument.\n"
          ]
        },
        {
          "output_type": "execute_result",
          "data": {
            "text/plain": [
              "<Figure size 2400x1000 with 6 Axes>"
            ],
            "image/png": "[encoded data removed]"
          },
          "metadata": {},
          "execution_count": 101
        }
      ]
    },
    {
      "cell_type": "markdown",
      "source": [
        "Frem the visualization we see that:\n",
        "\n",
        "1. There are clearly some invalid values in Sq.Ft column (we see a huge spike).\n",
        "2. Price has outlying data, so we have to check if they are valid in further analysis.\n",
        "3. The distribution of all variables is skewed left.\n",
        "4. Most apartments have 1-5 bedrooms, other values are very rare. Most apartments have 1-3.5 bathrooms."
      ],
      "metadata": {
        "id": "PEeJHAOSKf4Q"
      }
    },
    {
      "cell_type": "markdown",
      "source": [
        "Working with huge spike in Sq.Ft. Locating the outlier:"
      ],
      "metadata": {
        "id": "I2c3MuyzcX95"
      }
    },
    {
      "cell_type": "code",
      "source": [
        "max_sqft=df_cleaned['Sq.Ft'].max()\n",
        "max_sqft"
      ],
      "metadata": {
        "id": "yomv2f8jLY_v",
        "outputId": "9b58930a-1c20-4800-8b65-af32d9b1fb09",
        "colab": {
          "base_uri": "https://localhost:8080/"
        }
      },
      "execution_count": 102,
      "outputs": [
        {
          "output_type": "execute_result",
          "data": {
            "text/plain": [
              "39654"
            ]
          },
          "metadata": {},
          "execution_count": 102
        }
      ]
    },
    {
      "cell_type": "code",
      "source": [
        "mask=df_cleaned['Sq.Ft']==df_cleaned['Sq.Ft'].max()\n",
        "df_cleaned.loc[mask]"
      ],
      "metadata": {
        "id": "uGnZ2g7fLrWp",
        "outputId": "bdc2b1ad-614a-4910-9065-9ca1dfc3986f",
        "colab": {
          "base_uri": "https://localhost:8080/",
          "height": 81
        }
      },
      "execution_count": 103,
      "outputs": [
        {
          "output_type": "execute_result",
          "data": {
            "text/plain": [
              "            Address    Price     Description           Place  Beds  Bath  \\\n",
              "1584  2012 3 Ave NW  1695000  CA  AB T2N 0K2  West Hillhurst     4   3.5   \n",
              "\n",
              "      Sq.Ft     Website  \n",
              "1584  39654  Cir Realty  "
            ],
            "text/html": [
              "\n",
              "  <div id=\"df-1d590b25-bea1-488a-baad-84315dfd95b4\" class=\"colab-df-container\">\n",
              "    <div>\n",
              "<style scoped>\n",
              "    .dataframe tbody tr th:only-of-type {\n",
              "        vertical-align: middle;\n",
              "    }\n",
              "\n",
              "    .dataframe tbody tr th {\n",
              "        vertical-align: top;\n",
              "    }\n",
              "\n",
              "    .dataframe thead th {\n",
              "        text-align: right;\n",
              "    }\n",
              "</style>\n",
              "<table border=\"1\" class=\"dataframe\">\n",
              "  <thead>\n",
              "    <tr style=\"text-align: right;\">\n",
              "      <th></th>\n",
              "      <th>Address</th>\n",
              "      <th>Price</th>\n",
              "      <th>Description</th>\n",
              "      <th>Place</th>\n",
              "      <th>Beds</th>\n",
              "      <th>Bath</th>\n",
              "      <th>Sq.Ft</th>\n",
              "      <th>Website</th>\n",
              "    </tr>\n",
              "  </thead>\n",
              "  <tbody>\n",
              "    <tr>\n",
              "      <th>1584</th>\n",
              "      <td>2012 3 Ave NW</td>\n",
              "      <td>1695000</td>\n",
              "      <td>CA  AB T2N 0K2</td>\n",
              "      <td>West Hillhurst</td>\n",
              "      <td>4</td>\n",
              "      <td>3.5</td>\n",
              "      <td>39654</td>\n",
              "      <td>Cir Realty</td>\n",
              "    </tr>\n",
              "  </tbody>\n",
              "</table>\n",
              "</div>\n",
              "    <div class=\"colab-df-buttons\">\n",
              "\n",
              "  <div class=\"colab-df-container\">\n",
              "    <button class=\"colab-df-convert\" onclick=\"convertToInteractive('df-1d590b25-bea1-488a-baad-84315dfd95b4')\"\n",
              "            title=\"Convert this dataframe to an interactive table.\"\n",
              "            style=\"display:none;\">\n",
              "\n",
              "  <svg xmlns=\"http://www.w3.org/2000/svg\" height=\"24px\" viewBox=\"0 -960 960 960\">\n",
              "    <path d=\"M120-120v-720h720v720H120Zm60-500h600v-160H180v160Zm220 220h160v-160H400v160Zm0 220h160v-160H400v160ZM180-400h160v-160H180v160Zm440 0h160v-160H620v160ZM180-180h160v-160H180v160Zm440 0h160v-160H620v160Z\"/>\n",
              "  </svg>\n",
              "    </button>\n",
              "\n",
              "  <style>\n",
              "    .colab-df-container {\n",
              "      display:flex;\n",
              "      gap: 12px;\n",
              "    }\n",
              "\n",
              "    .colab-df-convert {\n",
              "      background-color: #E8F0FE;\n",
              "      border: none;\n",
              "      border-radius: 50%;\n",
              "      cursor: pointer;\n",
              "      display: none;\n",
              "      fill: #1967D2;\n",
              "      height: 32px;\n",
              "      padding: 0 0 0 0;\n",
              "      width: 32px;\n",
              "    }\n",
              "\n",
              "    .colab-df-convert:hover {\n",
              "      background-color: #E2EBFA;\n",
              "      box-shadow: 0px 1px 2px rgba(60, 64, 67, 0.3), 0px 1px 3px 1px rgba(60, 64, 67, 0.15);\n",
              "      fill: #174EA6;\n",
              "    }\n",
              "\n",
              "    .colab-df-buttons div {\n",
              "      margin-bottom: 4px;\n",
              "    }\n",
              "\n",
              "    [theme=dark] .colab-df-convert {\n",
              "      background-color: #3B4455;\n",
              "      fill: #D2E3FC;\n",
              "    }\n",
              "\n",
              "    [theme=dark] .colab-df-convert:hover {\n",
              "      background-color: #434B5C;\n",
              "      box-shadow: 0px 1px 3px 1px rgba(0, 0, 0, 0.15);\n",
              "      filter: drop-shadow(0px 1px 2px rgba(0, 0, 0, 0.3));\n",
              "      fill: #FFFFFF;\n",
              "    }\n",
              "  </style>\n",
              "\n",
              "    <script>\n",
              "      const buttonEl =\n",
              "        document.querySelector('#df-1d590b25-bea1-488a-baad-84315dfd95b4 button.colab-df-convert');\n",
              "      buttonEl.style.display =\n",
              "        google.colab.kernel.accessAllowed ? 'block' : 'none';\n",
              "\n",
              "      async function convertToInteractive(key) {\n",
              "        const element = document.querySelector('#df-1d590b25-bea1-488a-baad-84315dfd95b4');\n",
              "        const dataTable =\n",
              "          await google.colab.kernel.invokeFunction('convertToInteractive',\n",
              "                                                    [key], {});\n",
              "        if (!dataTable) return;\n",
              "\n",
              "        const docLinkHtml = 'Like what you see? Visit the ' +\n",
              "          '<a target=\"_blank\" href=https://colab.research.google.com/notebooks/data_table.ipynb>data table notebook</a>'\n",
              "          + ' to learn more about interactive tables.';\n",
              "        element.innerHTML = '';\n",
              "        dataTable['output_type'] = 'display_data';\n",
              "        await google.colab.output.renderOutput(dataTable, element);\n",
              "        const docLink = document.createElement('div');\n",
              "        docLink.innerHTML = docLinkHtml;\n",
              "        element.appendChild(docLink);\n",
              "      }\n",
              "    </script>\n",
              "  </div>\n",
              "\n",
              "    </div>\n",
              "  </div>\n"
            ]
          },
          "metadata": {},
          "execution_count": 103
        }
      ]
    },
    {
      "cell_type": "markdown",
      "source": [
        "Seems that we have a fat finger error. Let's drop the row containing this value."
      ],
      "metadata": {
        "id": "gbUq0UkzF3O_"
      }
    },
    {
      "cell_type": "code",
      "source": [
        "df_cleaned=df_cleaned.drop(df_cleaned.loc[mask].index)"
      ],
      "metadata": {
        "id": "-BWC1EbhWY3I"
      },
      "execution_count": 104,
      "outputs": []
    },
    {
      "cell_type": "markdown",
      "source": [
        "Checking the plot, no spikes."
      ],
      "metadata": {
        "id": "iZRjU8OIGMUg"
      }
    },
    {
      "cell_type": "code",
      "source": [
        "plot_objects = plt.subplots(nrows=1, ncols=2, figsize=(12, 5))\n",
        "fig,(ax1,ax2)=plot_objects"
      ],
      "metadata": {
        "id": "_rlNqxvRDMQ-",
        "outputId": "132947e8-426f-4f33-c37a-69e1eee17ee9",
        "colab": {
          "base_uri": "https://localhost:8080/",
          "height": 451
        }
      },
      "execution_count": 112,
      "outputs": [
        {
          "output_type": "display_data",
          "data": {
            "text/plain": [
              "<Figure size 1200x500 with 2 Axes>"
            ],
            "image/png": "[encoded data removed]"
          },
          "metadata": {}
        }
      ]
    },
    {
      "cell_type": "code",
      "source": [
        "ax1.plot(df_cleaned['Sq.Ft'],color='blue',linewidth=1,label='Sq.Ft')\n",
        "ax1.legend()\n",
        "ax2.boxplot(df_cleaned['Sq.Ft'])\n",
        "ax2.legend()\n",
        "fig"
      ],
      "metadata": {
        "id": "-5nt-cCgDMfy",
        "outputId": "15d76243-a65d-4e31-f0bf-f4ba07eeb369",
        "colab": {
          "base_uri": "https://localhost:8080/",
          "height": 462
        }
      },
      "execution_count": 113,
      "outputs": [
        {
          "output_type": "stream",
          "name": "stderr",
          "text": [
            "WARNING:matplotlib.legend:No artists with labels found to put in legend.  Note that artists whose label start with an underscore are ignored when legend() is called with no argument.\n"
          ]
        },
        {
          "output_type": "execute_result",
          "data": {
            "text/plain": [
              "<Figure size 1200x500 with 2 Axes>"
            ],
            "image/png": "[encoded data removed]"
          },
          "metadata": {},
          "execution_count": 113
        }
      ]
    },
    {
      "cell_type": "code",
      "source": [
        "df_cleaned['Sq.Ft'].sort_values(ascending=False).head(20)"
      ],
      "metadata": {
        "colab": {
          "base_uri": "https://localhost:8080/"
        },
        "id": "5RbAK8KAdN_R",
        "outputId": "893fd381-a497-45ed-a332-f07e2b428024"
      },
      "execution_count": 124,
      "outputs": [
        {
          "output_type": "execute_result",
          "data": {
            "text/plain": [
              "2683    8179\n",
              "3301    7539\n",
              "3149    7049\n",
              "3113    6143\n",
              "3244    6057\n",
              "2952    5813\n",
              "3338    5743\n",
              "2557    5602\n",
              "3067    5434\n",
              "2698    5424\n",
              "3040    5059\n",
              "47      5048\n",
              "2163    5042\n",
              "1372    5008\n",
              "1378    4867\n",
              "3216    4776\n",
              "2324    4766\n",
              "2599    4744\n",
              "2799    4715\n",
              "3316    4713\n",
              "Name: Sq.Ft, dtype: int64"
            ]
          },
          "metadata": {},
          "execution_count": 124
        }
      ]
    },
    {
      "cell_type": "markdown",
      "source": [
        "Now the data seems to be clean from extreme outliers. We`ll look deeper in EDA."
      ],
      "metadata": {
        "id": "MEM5cLlAGUA3"
      }
    },
    {
      "cell_type": "markdown",
      "source": [
        "## 4. Exploratory data analysis"
      ],
      "metadata": {
        "id": "mAH87UCzIdmy"
      }
    },
    {
      "cell_type": "code",
      "source": [
        "df_cleaned.describe()"
      ],
      "metadata": {
        "colab": {
          "base_uri": "https://localhost:8080/",
          "height": 300
        },
        "id": "wvDSAW4watCr",
        "outputId": "d069a694-ac4d-4d0d-cc16-cad1097e9ed9"
      },
      "execution_count": 114,
      "outputs": [
        {
          "output_type": "execute_result",
          "data": {
            "text/plain": [
              "              Price         Beds         Bath        Sq.Ft\n",
              "count  3.342000e+03  3342.000000  3342.000000  3342.000000\n",
              "mean   7.459752e+05     3.119988     2.475913  1543.077199\n",
              "std    6.316910e+05     1.347105     1.023052   816.985239\n",
              "min    1.419000e+05     1.000000     1.000000   307.000000\n",
              "25%    3.982500e+05     2.000000     2.000000   931.250000\n",
              "50%    6.190000e+05     3.000000     2.500000  1349.000000\n",
              "75%    8.499000e+05     4.000000     3.500000  2017.750000\n",
              "max    1.000000e+07    10.000000     8.000000  8179.000000"
            ],
            "text/html": [
              "\n",
              "  <div id=\"df-f564f17c-c450-4154-b1fc-a82fcfe54000\" class=\"colab-df-container\">\n",
              "    <div>\n",
              "<style scoped>\n",
              "    .dataframe tbody tr th:only-of-type {\n",
              "        vertical-align: middle;\n",
              "    }\n",
              "\n",
              "    .dataframe tbody tr th {\n",
              "        vertical-align: top;\n",
              "    }\n",
              "\n",
              "    .dataframe thead th {\n",
              "        text-align: right;\n",
              "    }\n",
              "</style>\n",
              "<table border=\"1\" class=\"dataframe\">\n",
              "  <thead>\n",
              "    <tr style=\"text-align: right;\">\n",
              "      <th></th>\n",
              "      <th>Price</th>\n",
              "      <th>Beds</th>\n",
              "      <th>Bath</th>\n",
              "      <th>Sq.Ft</th>\n",
              "    </tr>\n",
              "  </thead>\n",
              "  <tbody>\n",
              "    <tr>\n",
              "      <th>count</th>\n",
              "      <td>3.342000e+03</td>\n",
              "      <td>3342.000000</td>\n",
              "      <td>3342.000000</td>\n",
              "      <td>3342.000000</td>\n",
              "    </tr>\n",
              "    <tr>\n",
              "      <th>mean</th>\n",
              "      <td>7.459752e+05</td>\n",
              "      <td>3.119988</td>\n",
              "      <td>2.475913</td>\n",
              "      <td>1543.077199</td>\n",
              "    </tr>\n",
              "    <tr>\n",
              "      <th>std</th>\n",
              "      <td>6.316910e+05</td>\n",
              "      <td>1.347105</td>\n",
              "      <td>1.023052</td>\n",
              "      <td>816.985239</td>\n",
              "    </tr>\n",
              "    <tr>\n",
              "      <th>min</th>\n",
              "      <td>1.419000e+05</td>\n",
              "      <td>1.000000</td>\n",
              "      <td>1.000000</td>\n",
              "      <td>307.000000</td>\n",
              "    </tr>\n",
              "    <tr>\n",
              "      <th>25%</th>\n",
              "      <td>3.982500e+05</td>\n",
              "      <td>2.000000</td>\n",
              "      <td>2.000000</td>\n",
              "      <td>931.250000</td>\n",
              "    </tr>\n",
              "    <tr>\n",
              "      <th>50%</th>\n",
              "      <td>6.190000e+05</td>\n",
              "      <td>3.000000</td>\n",
              "      <td>2.500000</td>\n",
              "      <td>1349.000000</td>\n",
              "    </tr>\n",
              "    <tr>\n",
              "      <th>75%</th>\n",
              "      <td>8.499000e+05</td>\n",
              "      <td>4.000000</td>\n",
              "      <td>3.500000</td>\n",
              "      <td>2017.750000</td>\n",
              "    </tr>\n",
              "    <tr>\n",
              "      <th>max</th>\n",
              "      <td>1.000000e+07</td>\n",
              "      <td>10.000000</td>\n",
              "      <td>8.000000</td>\n",
              "      <td>8179.000000</td>\n",
              "    </tr>\n",
              "  </tbody>\n",
              "</table>\n",
              "</div>\n",
              "    <div class=\"colab-df-buttons\">\n",
              "\n",
              "  <div class=\"colab-df-container\">\n",
              "    <button class=\"colab-df-convert\" onclick=\"convertToInteractive('df-f564f17c-c450-4154-b1fc-a82fcfe54000')\"\n",
              "            title=\"Convert this dataframe to an interactive table.\"\n",
              "            style=\"display:none;\">\n",
              "\n",
              "  <svg xmlns=\"http://www.w3.org/2000/svg\" height=\"24px\" viewBox=\"0 -960 960 960\">\n",
              "    <path d=\"M120-120v-720h720v720H120Zm60-500h600v-160H180v160Zm220 220h160v-160H400v160Zm0 220h160v-160H400v160ZM180-400h160v-160H180v160Zm440 0h160v-160H620v160ZM180-180h160v-160H180v160Zm440 0h160v-160H620v160Z\"/>\n",
              "  </svg>\n",
              "    </button>\n",
              "\n",
              "  <style>\n",
              "    .colab-df-container {\n",
              "      display:flex;\n",
              "      gap: 12px;\n",
              "    }\n",
              "\n",
              "    .colab-df-convert {\n",
              "      background-color: #E8F0FE;\n",
              "      border: none;\n",
              "      border-radius: 50%;\n",
              "      cursor: pointer;\n",
              "      display: none;\n",
              "      fill: #1967D2;\n",
              "      height: 32px;\n",
              "      padding: 0 0 0 0;\n",
              "      width: 32px;\n",
              "    }\n",
              "\n",
              "    .colab-df-convert:hover {\n",
              "      background-color: #E2EBFA;\n",
              "      box-shadow: 0px 1px 2px rgba(60, 64, 67, 0.3), 0px 1px 3px 1px rgba(60, 64, 67, 0.15);\n",
              "      fill: #174EA6;\n",
              "    }\n",
              "\n",
              "    .colab-df-buttons div {\n",
              "      margin-bottom: 4px;\n",
              "    }\n",
              "\n",
              "    [theme=dark] .colab-df-convert {\n",
              "      background-color: #3B4455;\n",
              "      fill: #D2E3FC;\n",
              "    }\n",
              "\n",
              "    [theme=dark] .colab-df-convert:hover {\n",
              "      background-color: #434B5C;\n",
              "      box-shadow: 0px 1px 3px 1px rgba(0, 0, 0, 0.15);\n",
              "      filter: drop-shadow(0px 1px 2px rgba(0, 0, 0, 0.3));\n",
              "      fill: #FFFFFF;\n",
              "    }\n",
              "  </style>\n",
              "\n",
              "    <script>\n",
              "      const buttonEl =\n",
              "        document.querySelector('#df-f564f17c-c450-4154-b1fc-a82fcfe54000 button.colab-df-convert');\n",
              "      buttonEl.style.display =\n",
              "        google.colab.kernel.accessAllowed ? 'block' : 'none';\n",
              "\n",
              "      async function convertToInteractive(key) {\n",
              "        const element = document.querySelector('#df-f564f17c-c450-4154-b1fc-a82fcfe54000');\n",
              "        const dataTable =\n",
              "          await google.colab.kernel.invokeFunction('convertToInteractive',\n",
              "                                                    [key], {});\n",
              "        if (!dataTable) return;\n",
              "\n",
              "        const docLinkHtml = 'Like what you see? Visit the ' +\n",
              "          '<a target=\"_blank\" href=https://colab.research.google.com/notebooks/data_table.ipynb>data table notebook</a>'\n",
              "          + ' to learn more about interactive tables.';\n",
              "        element.innerHTML = '';\n",
              "        dataTable['output_type'] = 'display_data';\n",
              "        await google.colab.output.renderOutput(dataTable, element);\n",
              "        const docLink = document.createElement('div');\n",
              "        docLink.innerHTML = docLinkHtml;\n",
              "        element.appendChild(docLink);\n",
              "      }\n",
              "    </script>\n",
              "  </div>\n",
              "\n",
              "\n",
              "<div id=\"df-86bcfda8-c94c-44d5-a3d9-dd8279746c5c\">\n",
              "  <button class=\"colab-df-quickchart\" onclick=\"quickchart('df-86bcfda8-c94c-44d5-a3d9-dd8279746c5c')\"\n",
              "            title=\"Suggest charts\"\n",
              "            style=\"display:none;\">\n",
              "\n",
              "<svg xmlns=\"http://www.w3.org/2000/svg\" height=\"24px\"viewBox=\"0 0 24 24\"\n",
              "     width=\"24px\">\n",
              "    <g>\n",
              "        <path d=\"M19 3H5c-1.1 0-2 .9-2 2v14c0 1.1.9 2 2 2h14c1.1 0 2-.9 2-2V5c0-1.1-.9-2-2-2zM9 17H7v-7h2v7zm4 0h-2V7h2v10zm4 0h-2v-4h2v4z\"/>\n",
              "    </g>\n",
              "</svg>\n",
              "  </button>\n",
              "\n",
              "<style>\n",
              "  .colab-df-quickchart {\n",
              "      --bg-color: #E8F0FE;\n",
              "      --fill-color: #1967D2;\n",
              "      --hover-bg-color: #E2EBFA;\n",
              "      --hover-fill-color: #174EA6;\n",
              "      --disabled-fill-color: #AAA;\n",
              "      --disabled-bg-color: #DDD;\n",
              "  }\n",
              "\n",
              "  [theme=dark] .colab-df-quickchart {\n",
              "      --bg-color: #3B4455;\n",
              "      --fill-color: #D2E3FC;\n",
              "      --hover-bg-color: #434B5C;\n",
              "      --hover-fill-color: #FFFFFF;\n",
              "      --disabled-bg-color: #3B4455;\n",
              "      --disabled-fill-color: #666;\n",
              "  }\n",
              "\n",
              "  .colab-df-quickchart {\n",
              "    background-color: var(--bg-color);\n",
              "    border: none;\n",
              "    border-radius: 50%;\n",
              "    cursor: pointer;\n",
              "    display: none;\n",
              "    fill: var(--fill-color);\n",
              "    height: 32px;\n",
              "    padding: 0;\n",
              "    width: 32px;\n",
              "  }\n",
              "\n",
              "  .colab-df-quickchart:hover {\n",
              "    background-color: var(--hover-bg-color);\n",
              "    box-shadow: 0 1px 2px rgba(60, 64, 67, 0.3), 0 1px 3px 1px rgba(60, 64, 67, 0.15);\n",
              "    fill: var(--button-hover-fill-color);\n",
              "  }\n",
              "\n",
              "  .colab-df-quickchart-complete:disabled,\n",
              "  .colab-df-quickchart-complete:disabled:hover {\n",
              "    background-color: var(--disabled-bg-color);\n",
              "    fill: var(--disabled-fill-color);\n",
              "    box-shadow: none;\n",
              "  }\n",
              "\n",
              "  .colab-df-spinner {\n",
              "    border: 2px solid var(--fill-color);\n",
              "    border-color: transparent;\n",
              "    border-bottom-color: var(--fill-color);\n",
              "    animation:\n",
              "      spin 1s steps(1) infinite;\n",
              "  }\n",
              "\n",
              "  @keyframes spin {\n",
              "    0% {\n",
              "      border-color: transparent;\n",
              "      border-bottom-color: var(--fill-color);\n",
              "      border-left-color: var(--fill-color);\n",
              "    }\n",
              "    20% {\n",
              "      border-color: transparent;\n",
              "      border-left-color: var(--fill-color);\n",
              "      border-top-color: var(--fill-color);\n",
              "    }\n",
              "    30% {\n",
              "      border-color: transparent;\n",
              "      border-left-color: var(--fill-color);\n",
              "      border-top-color: var(--fill-color);\n",
              "      border-right-color: var(--fill-color);\n",
              "    }\n",
              "    40% {\n",
              "      border-color: transparent;\n",
              "      border-right-color: var(--fill-color);\n",
              "      border-top-color: var(--fill-color);\n",
              "    }\n",
              "    60% {\n",
              "      border-color: transparent;\n",
              "      border-right-color: var(--fill-color);\n",
              "    }\n",
              "    80% {\n",
              "      border-color: transparent;\n",
              "      border-right-color: var(--fill-color);\n",
              "      border-bottom-color: var(--fill-color);\n",
              "    }\n",
              "    90% {\n",
              "      border-color: transparent;\n",
              "      border-bottom-color: var(--fill-color);\n",
              "    }\n",
              "  }\n",
              "</style>\n",
              "\n",
              "  <script>\n",
              "    async function quickchart(key) {\n",
              "      const quickchartButtonEl =\n",
              "        document.querySelector('#' + key + ' button');\n",
              "      quickchartButtonEl.disabled = true;  // To prevent multiple clicks.\n",
              "      quickchartButtonEl.classList.add('colab-df-spinner');\n",
              "      try {\n",
              "        const charts = await google.colab.kernel.invokeFunction(\n",
              "            'suggestCharts', [key], {});\n",
              "      } catch (error) {\n",
              "        console.error('Error during call to suggestCharts:', error);\n",
              "      }\n",
              "      quickchartButtonEl.classList.remove('colab-df-spinner');\n",
              "      quickchartButtonEl.classList.add('colab-df-quickchart-complete');\n",
              "    }\n",
              "    (() => {\n",
              "      let quickchartButtonEl =\n",
              "        document.querySelector('#df-86bcfda8-c94c-44d5-a3d9-dd8279746c5c button');\n",
              "      quickchartButtonEl.style.display =\n",
              "        google.colab.kernel.accessAllowed ? 'block' : 'none';\n",
              "    })();\n",
              "  </script>\n",
              "</div>\n",
              "    </div>\n",
              "  </div>\n"
            ]
          },
          "metadata": {},
          "execution_count": 114
        }
      ]
    },
    {
      "cell_type": "code",
      "source": [
        "df['Price_per_square']=df['Price']/df['Sq.Ft']\n",
        "df['Avg_bed']=df['Sq.Ft']/df['Beds']"
      ],
      "metadata": {
        "id": "xVQrfWETSPUO"
      },
      "execution_count": 107,
      "outputs": []
    },
    {
      "cell_type": "code",
      "source": [
        "mask_price=df['Price usd per square']>price_upper_limit"
      ],
      "metadata": {
        "id": "icqUtKCRX9ft"
      },
      "execution_count": null,
      "outputs": []
    },
    {
      "cell_type": "code",
      "source": [
        "df_cleaned.loc[mask_price]"
      ],
      "metadata": {
        "id": "6gItDU9aX9me"
      },
      "execution_count": null,
      "outputs": []
    },
    {
      "cell_type": "code",
      "source": [
        "mask_beds=df_cleaned['Beds']==1"
      ],
      "metadata": {
        "id": "tW4dToi5J5-v"
      },
      "execution_count": null,
      "outputs": []
    },
    {
      "cell_type": "code",
      "source": [
        "df_cleaned[mask_beds]"
      ],
      "metadata": {
        "id": "vEEWkzy7J6Bz"
      },
      "execution_count": null,
      "outputs": []
    },
    {
      "cell_type": "code",
      "source": [
        "df_cleaned['Price usd per square'].sort_values(ascending=False)"
      ],
      "metadata": {
        "id": "8hCQ7NmIJ6HR"
      },
      "execution_count": null,
      "outputs": []
    },
    {
      "cell_type": "code",
      "source": [
        "df_cleaned['Avg beds'].sort_values(ascending=False)"
      ],
      "metadata": {
        "id": "H2Emox7EJ6MH"
      },
      "execution_count": null,
      "outputs": []
    },
    {
      "cell_type": "code",
      "source": [
        "df['Sq.Ft'].plot(figsize=[16,9])"
      ],
      "metadata": {
        "id": "1D_p_uM8J6Sx"
      },
      "execution_count": null,
      "outputs": []
    },
    {
      "cell_type": "code",
      "source": [
        "mask_max_beds=df_cleaned['Avg beds']==df_cleaned['Avg beds'].max()"
      ],
      "metadata": {
        "id": "ZhAQ-E0vJ6W8"
      },
      "execution_count": null,
      "outputs": []
    },
    {
      "cell_type": "code",
      "source": [
        "df_cleaned.loc[mask_max_beds]"
      ],
      "metadata": {
        "id": "603GxpSEJ6aI"
      },
      "execution_count": null,
      "outputs": []
    },
    {
      "cell_type": "code",
      "source": [
        "df_cleaned.loc[1584,'Sq.Ft']=df_cleaned.loc[1584,'Sq.Ft']=3684"
      ],
      "metadata": {
        "id": "5G8XMHNkjvLJ"
      },
      "execution_count": null,
      "outputs": []
    },
    {
      "cell_type": "code",
      "source": [
        "df_cleaned.describe()"
      ],
      "metadata": {
        "id": "stGw1yLskz84"
      },
      "execution_count": null,
      "outputs": []
    },
    {
      "cell_type": "code",
      "source": [
        "df_cleaned['Price usd']=df_cleaned['Price']/1.33\n",
        "df_cleaned['Avg beds']=df_cleaned['Sq.M']/df_cleaned['Beds']\n",
        "df_cleaned['Sq.M']=df_cleaned['Sq.Ft']/10.764\n",
        "df_cleaned['Price usd per square']=df_cleaned['Price usd']/df_cleaned['Sq.M']"
      ],
      "metadata": {
        "id": "j9s9aQ0imUnx"
      },
      "execution_count": null,
      "outputs": []
    },
    {
      "cell_type": "code",
      "source": [
        "plot_objects = plt.subplots(nrows=2, ncols=2, figsize=(24, 10))\n",
        "fig,((ax1,ax2),(ax3,ax4))=plot_objects"
      ],
      "metadata": {
        "id": "KwbaW73BLxM6"
      },
      "execution_count": null,
      "outputs": []
    },
    {
      "cell_type": "code",
      "source": [
        "ax1.plot(df_cleaned['Price'],color='blue',linewidth=1,label='Price')\n",
        "ax2.plot(df_cleaned['Sq.Ft'],color='green',linewidth=1)\n",
        "ax3.hist(df_cleaned['Avg beds'],bins=100)\n",
        "ax4.hist(df_cleaned['Beds'],bins=10)\n",
        "\n",
        "\n",
        "ax1.set_ylabel('Price')\n",
        "ax2.set_ylabel('Square Ft')\n",
        "\n",
        "ax1.set_title(\"Price\")\n",
        "ax2.set_title(\"Square Ft\")\n",
        "ax1.legend()\n",
        "\n",
        "fig.suptitle('House prices in Calgary 2023',fontsize=30)\n",
        "\n",
        "fig"
      ],
      "metadata": {
        "id": "bHO8eZu8ReZH"
      },
      "execution_count": null,
      "outputs": []
    },
    {
      "cell_type": "code",
      "source": [],
      "metadata": {
        "id": "reyvRcEYLycf"
      },
      "execution_count": null,
      "outputs": []
    },
    {
      "cell_type": "code",
      "source": [],
      "metadata": {
        "id": "2a5o4sQULyiN"
      },
      "execution_count": null,
      "outputs": []
    },
    {
      "cell_type": "code",
      "source": [],
      "metadata": {
        "id": "Z6MvnFPOLynt"
      },
      "execution_count": null,
      "outputs": []
    }
  ]
}