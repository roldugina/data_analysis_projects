{
  "nbformat": 4,
  "nbformat_minor": 0,
  "metadata": {
    "colab": {
      "provenance": [],
      "authorship_tag": "ABX9TyOogt/gcQI+UAtkd0zSWGnM",
      "include_colab_link": true
    },
    "kernelspec": {
      "name": "python3",
      "display_name": "Python 3"
    },
    "language_info": {
      "name": "python"
    }
  },
  "cells": [
    {
      "cell_type": "markdown",
      "metadata": {
        "id": "view-in-github",
        "colab_type": "text"
      },
      "source": [
        "<a href=\"https://colab.research.google.com/github/roldugina/data_analysis_projects/blob/main/reading_files/Reading_db.ipynb\" target=\"_parent\"><img src=\"https://colab.research.google.com/assets/colab-badge.svg\" alt=\"Open In Colab\"/></a>"
      ]
    },
    {
      "cell_type": "code",
      "source": [
        "import pandas as pd\n",
        "import sqlite3\n",
        "from sqlite3 import OperationalError"
      ],
      "metadata": {
        "id": "5vMH81y_YeQg"
      },
      "execution_count": 1,
      "outputs": []
    },
    {
      "cell_type": "code",
      "source": [
        "conn=sqlite3.connect('sakila.sql')"
      ],
      "metadata": {
        "id": "6RgyFGlzgKoI"
      },
      "execution_count": 14,
      "outputs": []
    },
    {
      "cell_type": "code",
      "source": [
        "cur=conn.cursor()"
      ],
      "metadata": {
        "id": "mz47qq-cgUSW"
      },
      "execution_count": 15,
      "outputs": []
    },
    {
      "cell_type": "code",
      "source": [
        "sql_query = \"\"\"SELECT name FROM sqlite_master\n",
        "  WHERE type='table';\"\"\""
      ],
      "metadata": {
        "id": "1mBnkO1HiWGo"
      },
      "execution_count": 16,
      "outputs": []
    },
    {
      "cell_type": "code",
      "source": [
        "cur.execute(sql_query)"
      ],
      "metadata": {
        "colab": {
          "base_uri": "https://localhost:8080/"
        },
        "id": "7Sx8H0WIiezt",
        "outputId": "71063aa9-79f9-46fe-9b41-1e11e4838ec8"
      },
      "execution_count": 17,
      "outputs": [
        {
          "output_type": "execute_result",
          "data": {
            "text/plain": [
              "<sqlite3.Cursor at 0x79011e8f2440>"
            ]
          },
          "metadata": {},
          "execution_count": 17
        }
      ]
    },
    {
      "cell_type": "code",
      "source": [
        "print(cur.fetchall())"
      ],
      "metadata": {
        "colab": {
          "base_uri": "https://localhost:8080/",
          "height": 175
        },
        "id": "T1hB9qNQimjs",
        "outputId": "b8510f5c-1a32-41b5-eba4-89392a29dea8"
      },
      "execution_count": 1,
      "outputs": [
        {
          "output_type": "error",
          "ename": "NameError",
          "evalue": "name 'cur' is not defined",
          "traceback": [
            "\u001b[0;31m---------------------------------------------------------------------------\u001b[0m",
            "\u001b[0;31mNameError\u001b[0m                                 Traceback (most recent call last)",
            "\u001b[0;32m<ipython-input-1-1f55bcfb548a>\u001b[0m in \u001b[0;36m<cell line: 1>\u001b[0;34m()\u001b[0m\n\u001b[0;32m----> 1\u001b[0;31m \u001b[0mprint\u001b[0m\u001b[0;34m(\u001b[0m\u001b[0mcur\u001b[0m\u001b[0;34m.\u001b[0m\u001b[0mfetchall\u001b[0m\u001b[0;34m(\u001b[0m\u001b[0;34m)\u001b[0m\u001b[0;34m)\u001b[0m\u001b[0;34m\u001b[0m\u001b[0;34m\u001b[0m\u001b[0m\n\u001b[0m",
            "\u001b[0;31mNameError\u001b[0m: name 'cur' is not defined"
          ]
        }
      ]
    },
    {
      "cell_type": "code",
      "source": [
        "import sqlite3\n",
        "from sqlite3 import OperationalError\n",
        "\n",
        "conn = sqlite3.connect('csc455_HW3.db')\n",
        "c = conn.cursor()\n",
        "\n",
        "# Open and read the file as a single buffer\n",
        "fd = open('ZooDatabase.sql', 'r')\n",
        "sqlFile = fd.read()\n",
        "fd.close()\n",
        "\n",
        "# all SQL commands (split on ';')\n",
        "sqlCommands = sqlFile.split(';')\n",
        "\n",
        "# Execute every command from the input file\n",
        "for command in sqlCommands:\n",
        "    # This will skip and report errors\n",
        "    # For example, if the tables do not yet exist, this will skip over\n",
        "    # the DROP TABLE commands\n",
        "    try:\n",
        "        c.execute(command)\n",
        "    except OperationalError, msg:\n",
        "        print \"Command skipped: \", msg"
      ],
      "metadata": {
        "id": "QrzLtT8RwzgL"
      },
      "execution_count": null,
      "outputs": []
    }
  ]
}